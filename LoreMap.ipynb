{
 "cells": [
  {
   "cell_type": "code",
   "execution_count": 39,
   "metadata": {},
   "outputs": [],
   "source": [
    "import pandas as pd"
   ]
  },
  {
   "cell_type": "code",
   "execution_count": 40,
   "metadata": {},
   "outputs": [],
   "source": [
    "from lore import champs_dict, champs_desc_dict"
   ]
  },
  {
   "cell_type": "code",
   "execution_count": 41,
   "metadata": {},
   "outputs": [],
   "source": [
    "champ_name = champs_dict.CHAMPION_DICT"
   ]
  },
  {
   "cell_type": "code",
   "execution_count": 42,
   "metadata": {},
   "outputs": [],
   "source": [
    "champ_desc = champs_desc_dict.CHAMPS_DESC"
   ]
  },
  {
   "cell_type": "code",
   "execution_count": 43,
   "metadata": {},
   "outputs": [],
   "source": [
    "champ_name.update(champ_desc)"
   ]
  },
  {
   "cell_type": "code",
   "execution_count": 44,
   "metadata": {},
   "outputs": [],
   "source": [
    "df = pd.DataFrame(champ_name)"
   ]
  },
  {
   "cell_type": "code",
   "execution_count": 50,
   "metadata": {},
   "outputs": [],
   "source": [
    "pd.set_option('display.max_rows',200)"
   ]
  },
  {
   "cell_type": "code",
   "execution_count": 72,
   "metadata": {},
   "outputs": [],
   "source": [
    "names = df.groupby('names')"
   ]
  },
  {
   "cell_type": "code",
   "execution_count": 111,
   "metadata": {},
   "outputs": [],
   "source": [
    "def wordCount(long_desc):\n",
    "    word_set = set()\n",
    "    word_dict = dict()\n",
    "    for word in long_desc:\n",
    "        word_set.add(word)\n",
    "        dict_dict[word] += 1\n",
    "    return word_dict\n",
    "        "
   ]
  },
  {
   "cell_type": "code",
   "execution_count": 109,
   "metadata": {},
   "outputs": [],
   "source": []
  },
  {
   "cell_type": "code",
   "execution_count": 97,
   "metadata": {},
   "outputs": [
    {
     "data": {
      "text/plain": [
       "{'_is_copy': <weakref at 0x1152c50b0; to 'DataFrame' at 0x114046350>,\n",
       " '_data': SingleBlockManager\n",
       " Items: Index(['Kindred'], dtype='object', name='names')\n",
       " ObjectBlock: 1 dtype: object,\n",
       " '_item_cache': {},\n",
       " '_attrs': {},\n",
       " '_name': 'desc',\n",
       " '_subtyp': 'series',\n",
       " '_index': Index(['Kindred'], dtype='object', name='names'),\n",
       " '_cacher': ('desc', <weakref at 0x1152cff50; dead>),\n",
       " 'str': <pandas.core.strings.StringMethods at 0x1152d3c10>}"
      ]
     },
     "execution_count": 97,
     "metadata": {},
     "output_type": "execute_result"
    }
   ],
   "source": []
  }
 ],
 "metadata": {
  "kernelspec": {
   "display_name": "Python 3",
   "language": "python",
   "name": "python3"
  },
  "language_info": {
   "codemirror_mode": {
    "name": "ipython",
    "version": 3
   },
   "file_extension": ".py",
   "mimetype": "text/x-python",
   "name": "python",
   "nbconvert_exporter": "python",
   "pygments_lexer": "ipython3",
   "version": "3.7.6"
  }
 },
 "nbformat": 4,
 "nbformat_minor": 4
}
